{
 "cells": [
  {
   "cell_type": "code",
   "execution_count": 27,
   "metadata": {},
   "outputs": [],
   "source": [
    "# https://machinelearningmastery.com/sequence-classification-lstm-recurrent-neural-networks-python-keras/\n",
    "import json\n",
    "import numpy as np\n",
    "from keras.models import Sequential\n",
    "from keras.models import Model\n",
    "from keras.layers import Input\n",
    "from keras.layers import Dense\n",
    "from keras.layers import LSTM\n",
    "from keras.layers.convolutional import Conv1D\n",
    "from keras.layers.convolutional import MaxPooling1D\n",
    "from keras.layers.embeddings import Embedding\n",
    "from keras.layers.merge import concatenate\n",
    "from keras.preprocessing import sequence\n",
    "from keras.utils import to_categorical\n",
    "from sklearn.model_selection import train_test_split\n",
    "from sklearn.metrics import classification_report\n",
    "from matplotlib import pyplot"
   ]
  },
  {
   "cell_type": "code",
   "execution_count": 28,
   "metadata": {},
   "outputs": [],
   "source": [
    "def getNonSeqData(data):\n",
    "    output = []\n",
    "\n",
    "    output.append(data['FurLength'])\n",
    "    output.append(data['Color1'])\n",
    "    \n",
    "#     output.append(0 if data['Fee'] == 0 else 1)\n",
    "    output.append(data['Fee'])\n",
    "    \n",
    "    output.append(data['Vaccinated'])\n",
    "    output.append(data['Dewormed'])\n",
    "    output.append(data['Sterilized'])\n",
    "    output.append(data['MaturitySize'])\n",
    "    \n",
    "#     output.append(1 if data['Quantity'] == 1 else 2)\n",
    "#     output.append(int(data['PhotoAmt']//5))\n",
    "    output.append(data['Quantity'])\n",
    "    output.append(data['PhotoAmt'])\n",
    "    \n",
    "    output.append(data['Gender'])\n",
    "    \n",
    "#     output.append(data['Age']//12)\n",
    "    output.append(data['Age'])\n",
    "\n",
    "    output.append(0 if data['Breed2'] == 0 else 1)\n",
    "\n",
    "    return output"
   ]
  },
  {
   "cell_type": "code",
   "execution_count": 104,
   "metadata": {},
   "outputs": [
    {
     "name": "stdout",
     "output_type": "stream",
     "text": [
      "[9, 5, 11, 6, 13, 15, 14, 12, 1, 17, 10, 16, 4, 2, 2, 0, 1, 1, 1, 2, 1, 2.0, 2, 3, 1]\n",
      "[0. 0. 1. 0. 0.]\n"
     ]
    }
   ],
   "source": [
    "# load dataset\n",
    "filename = 'text_and_label_all/json_vectorized_test.json'\n",
    "\n",
    "X = []\n",
    "y = []\n",
    "\n",
    "\n",
    "with open(filename) as json_file:\n",
    "    data = json.load(json_file)\n",
    "    \n",
    "    for key, value in data.items():\n",
    "        X.append(value[\"vectorized\"] + getNonSeqData(value))\n",
    "        y.append(value[\"label\"])\n",
    "\n",
    "X = np.array(X)\n",
    "y = np.array(y)\n",
    "        \n",
    "y = to_categorical(y, num_classes=5)\n",
    "        \n",
    "print(X[0])\n",
    "print(y[0])"
   ]
  },
  {
   "cell_type": "code",
   "execution_count": 58,
   "metadata": {},
   "outputs": [],
   "source": [
    "top_words = 500\n",
    "X_train, X_test, y_train, y_test = train_test_split(X, y, test_size=0.20, random_state=42)"
   ]
  },
  {
   "cell_type": "code",
   "execution_count": 59,
   "metadata": {},
   "outputs": [
    {
     "name": "stdout",
     "output_type": "stream",
     "text": [
      "(11447, 50) (11447, 12) (11447, 5)\n",
      "(2862, 50) (2862, 12) (2862, 5)\n"
     ]
    }
   ],
   "source": [
    "# truncate and pad input sequences\n",
    "input_len = 62\n",
    "X_train = sequence.pad_sequences(X_train, maxlen=input_len)\n",
    "X_test = sequence.pad_sequences(X_test, maxlen=input_len)\n",
    "\n",
    "X_train_seq = X_train[:, :-12]\n",
    "X_train_other = X_train[:, -12:]\n",
    "\n",
    "X_test_seq = X_test[:, :-12]\n",
    "X_test_other = X_test[:, -12:]\n",
    "\n",
    "print(X_train_seq.shape, X_train_other.shape, y_train.shape)\n",
    "print(X_test_seq.shape, X_test_other.shape, y_test.shape)"
   ]
  },
  {
   "cell_type": "code",
   "execution_count": 72,
   "metadata": {},
   "outputs": [
    {
     "name": "stdout",
     "output_type": "stream",
     "text": [
      "__________________________________________________________________________________________________\n",
      "Layer (type)                    Output Shape         Param #     Connected to                     \n",
      "==================================================================================================\n",
      "input_30 (InputLayer)           (None, 50)           0                                            \n",
      "__________________________________________________________________________________________________\n",
      "embedding_16 (Embedding)        (None, 50, 8)        4000        input_30[0][0]                   \n",
      "__________________________________________________________________________________________________\n",
      "conv1d_15 (Conv1D)              (None, 50, 2)        50          embedding_16[0][0]               \n",
      "__________________________________________________________________________________________________\n",
      "max_pooling1d_15 (MaxPooling1D) (None, 25, 2)        0           conv1d_15[0][0]                  \n",
      "__________________________________________________________________________________________________\n",
      "input_31 (InputLayer)           (None, 12)           0                                            \n",
      "__________________________________________________________________________________________________\n",
      "lstm_15 (LSTM)                  (None, 16)           1216        max_pooling1d_15[0][0]           \n",
      "__________________________________________________________________________________________________\n",
      "dense_43 (Dense)                (None, 8)            104         input_31[0][0]                   \n",
      "__________________________________________________________________________________________________\n",
      "concatenate_15 (Concatenate)    (None, 24)           0           lstm_15[0][0]                    \n",
      "                                                                 dense_43[0][0]                   \n",
      "__________________________________________________________________________________________________\n",
      "dense_44 (Dense)                (None, 5)            125         concatenate_15[0][0]             \n",
      "==================================================================================================\n",
      "Total params: 5,495\n",
      "Trainable params: 5,495\n",
      "Non-trainable params: 0\n",
      "__________________________________________________________________________________________________\n",
      "None\n"
     ]
    }
   ],
   "source": [
    "embedding_vector_length = 8\n",
    "seq_len = 50\n",
    "\n",
    "# seq data input\n",
    "visible1 = Input(shape=(seq_len,))\n",
    "embedding1 = Embedding(top_words, embedding_vector_length, input_length=seq_len)(visible1)\n",
    "conv1 = Conv1D(filters=2, kernel_size=3, padding='same', activation='relu')(embedding1)\n",
    "pool1 = MaxPooling1D(pool_size=2)(conv1)\n",
    "lstm1 = LSTM(16)(pool1)\n",
    "\n",
    "# non-seq data input\n",
    "visible2 = Input(shape=(12,))\n",
    "dense1 = Dense(8, activation='relu')(visible2)\n",
    "# dense2 = Dense(8, activation='relu')(dense1)\n",
    "\n",
    "# merge input models\n",
    "merge1 = concatenate([lstm1, dense1])\n",
    "\n",
    "output = Dense(5, activation='softmax')(merge1)\n",
    "model = Model(inputs=[visible1, visible2], outputs=output)\n",
    "model.compile(loss='categorical_crossentropy', optimizer='adam', metrics=['accuracy'])\n",
    "print(model.summary())"
   ]
  },
  {
   "cell_type": "code",
   "execution_count": 73,
   "metadata": {},
   "outputs": [
    {
     "name": "stdout",
     "output_type": "stream",
     "text": [
      "Train on 11447 samples, validate on 2862 samples\n",
      "Epoch 1/5\n",
      "11447/11447 [==============================] - 19s 2ms/step - loss: 1.8849 - acc: 0.3039 - val_loss: 1.5336 - val_acc: 0.3333\n",
      "Epoch 2/5\n",
      "11447/11447 [==============================] - 16s 1ms/step - loss: 1.4841 - acc: 0.3400 - val_loss: 1.4495 - val_acc: 0.3498\n",
      "Epoch 3/5\n",
      "11447/11447 [==============================] - 16s 1ms/step - loss: 1.4280 - acc: 0.3608 - val_loss: 1.4223 - val_acc: 0.3686\n",
      "Epoch 4/5\n",
      "11447/11447 [==============================] - 17s 1ms/step - loss: 1.3931 - acc: 0.3740 - val_loss: 1.4256 - val_acc: 0.3588\n",
      "Epoch 5/5\n",
      "11447/11447 [==============================] - 17s 1ms/step - loss: 1.3687 - acc: 0.3929 - val_loss: 1.4099 - val_acc: 0.3672\n",
      "Accuracy: 36.72%\n"
     ]
    }
   ],
   "source": [
    "history = model.fit([X_train_seq, X_train_other], y_train, epochs=5, batch_size=16, \\\n",
    "                    validation_data=([X_test_seq, X_test_other], y_test))\n",
    "# Final evaluation of the model\n",
    "scores = model.evaluate([X_test_seq, X_test_other], y_test, verbose=0)\n",
    "print(\"Accuracy: %.2f%%\" % (scores[1]*100))"
   ]
  },
  {
   "cell_type": "code",
   "execution_count": 75,
   "metadata": {},
   "outputs": [
    {
     "data": {
      "image/png": "[encoded data removed]",
      "text/plain": [
       "<Figure size 432x288 with 1 Axes>"
      ]
     },
     "metadata": {
      "needs_background": "light"
     },
     "output_type": "display_data"
    }
   ],
   "source": [
    "pyplot.plot(history.history['loss'])\n",
    "pyplot.plot(history.history['val_loss'])\n",
    "pyplot.title('model train vs validation loss')\n",
    "pyplot.ylabel('loss')\n",
    "pyplot.xlabel('epoch')\n",
    "pyplot.legend(['train', 'validation'], loc='upper right')\n",
    "pyplot.show()"
   ]
  },
  {
   "cell_type": "code",
   "execution_count": 36,
   "metadata": {},
   "outputs": [
    {
     "name": "stdout",
     "output_type": "stream",
     "text": [
      "Saved model to disk\n"
     ]
    }
   ],
   "source": [
    "# serialize model to JSON\n",
    "model_json = model.to_json()\n",
    "with open(\"models/multi_input_model.json\", \"w\") as json_file:\n",
    "    json_file.write(model_json)\n",
    "# serialize weights to HDF5\n",
    "model.save_weights(\"models/multi_input_model.h5\")\n",
    "print(\"Saved model to disk\")"
   ]
  },
  {
   "cell_type": "code",
   "execution_count": 99,
   "metadata": {},
   "outputs": [],
   "source": [
    "# save model structure as png\n",
    "import keras\n",
    "import pydotplus\n",
    "from keras.utils.vis_utils import model_to_dot\n",
    "keras.utils.vis_utils.pydot = pydot\n",
    "plot_model(model, to_file='models/multi_input_model.png')"
   ]
  },
  {
   "cell_type": "code",
   "execution_count": null,
   "metadata": {},
   "outputs": [],
   "source": []
  }
 ],
 "metadata": {
  "kernelspec": {
   "display_name": "Python 3",
   "language": "python",
   "name": "python3"
  },
  "language_info": {
   "codemirror_mode": {
    "name": "ipython",
    "version": 3
   },
   "file_extension": ".py",
   "mimetype": "text/x-python",
   "name": "python",
   "nbconvert_exporter": "python",
   "pygments_lexer": "ipython3",
   "version": "3.6.8"
  }
 },
 "nbformat": 4,
 "nbformat_minor": 2
}
