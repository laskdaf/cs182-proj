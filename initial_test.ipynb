{
 "cells": [
  {
   "cell_type": "code",
   "execution_count": null,
   "metadata": {},
   "outputs": [],
   "source": [
    "# https://machinelearningmastery.com/sequence-classification-lstm-recurrent-neural-networks-python-keras/\n",
    "import json\n",
    "import numpy as np\n",
    "from keras.models import Sequential\n",
    "from keras.layers import Dense\n",
    "from keras.layers import LSTM\n",
    "from keras.layers.convolutional import Conv1D\n",
    "from keras.layers.convolutional import MaxPooling1D\n",
    "from keras.layers.embeddings import Embedding\n",
    "from keras.preprocessing import sequence\n",
    "from keras.utils import to_categorical\n",
    "from sklearn.model_selection import train_test_split"
   ]
  },
  {
   "cell_type": "code",
   "execution_count": 17,
   "metadata": {},
   "outputs": [
    {
     "name": "stdout",
     "output_type": "stream",
     "text": [
      "[12, 0, 0, 9, 0, 6, 15, 0, 0, 0, 8, 18, 20, 4, 0, 0, 0, 19, 0, 0, 17, 0, 1, 24, 7, 0, 23, 16, 0, 13, 14, 21, 22, 5, 5005, 5002, 5004, 5011, 5003, 5010, 5007, 5009, 5008, 5006, 5000, 5001]\n",
      "[0. 0. 1. 0. 0.]\n"
     ]
    }
   ],
   "source": [
    "# load dataset\n",
    "filename = 'text_and_label_all/json_vectorized_categorical.json'\n",
    "\n",
    "X = []\n",
    "y = []\n",
    "with open(filename) as json_file:\n",
    "    data = json.load(json_file)\n",
    "    \n",
    "    for key, value in data.items():\n",
    "        X.append(value[\"vectorized\"])\n",
    "        y.append(value[\"label\"])\n",
    "\n",
    "X = np.array(X)\n",
    "y = np.array(y)\n",
    "\n",
    "# X = X[:,np.newaxis]\n",
    "# y = y[:,np.newaxis]\n",
    "        \n",
    "y = to_categorical(y, num_classes=5)\n",
    "# y = np.expand_dims(y, axis=2)\n",
    "        \n",
    "print(X[0])\n",
    "print(y[0])"
   ]
  },
  {
   "cell_type": "code",
   "execution_count": 27,
   "metadata": {},
   "outputs": [
    {
     "name": "stdout",
     "output_type": "stream",
     "text": [
      "(11447,) (11447, 5)\n",
      "(2862,) (2862, 5)\n"
     ]
    }
   ],
   "source": [
    "top_words = 5057\n",
    "X_train, X_test, y_train, y_test = train_test_split(X, y, test_size=0.20, random_state=42)\n",
    "\n",
    "print(X_train.shape, y_train.shape)\n",
    "print(X_test.shape, y_test.shape)"
   ]
  },
  {
   "cell_type": "code",
   "execution_count": 28,
   "metadata": {},
   "outputs": [],
   "source": [
    "# truncate and pad input sequences\n",
    "max_review_length = 512\n",
    "X_train = sequence.pad_sequences(X_train, maxlen=max_review_length)\n",
    "X_test = sequence.pad_sequences(X_test, maxlen=max_review_length)"
   ]
  },
  {
   "cell_type": "code",
   "execution_count": 29,
   "metadata": {},
   "outputs": [
    {
     "name": "stdout",
     "output_type": "stream",
     "text": [
      "_________________________________________________________________\n",
      "Layer (type)                 Output Shape              Param #   \n",
      "=================================================================\n",
      "embedding_8 (Embedding)      (None, 512, 32)           163200    \n",
      "_________________________________________________________________\n",
      "lstm_7 (LSTM)                (None, 100)               53200     \n",
      "_________________________________________________________________\n",
      "dense_7 (Dense)              (None, 5)                 505       \n",
      "=================================================================\n",
      "Total params: 216,905\n",
      "Trainable params: 216,905\n",
      "Non-trainable params: 0\n",
      "_________________________________________________________________\n",
      "None\n"
     ]
    }
   ],
   "source": [
    "# create the model\n",
    "embedding_vecor_length = 32\n",
    "model = Sequential()\n",
    "model.add(Embedding(top_words, embedding_vecor_length, input_length=max_review_length))\n",
    "model.add(LSTM(100))\n",
    "model.add(Dense(5, activation='softmax'))\n",
    "model.compile(loss='categorical_crossentropy', optimizer='adam', metrics=['accuracy'])\n",
    "print(model.summary())"
   ]
  },
  {
   "cell_type": "code",
   "execution_count": 11,
   "metadata": {},
   "outputs": [
    {
     "name": "stdout",
     "output_type": "stream",
     "text": [
      "Epoch 1/6\n",
      "11447/11447 [==============================] - 262s 23ms/step - loss: 1.4647 - acc: 0.2878\n",
      "Epoch 2/6\n",
      "11447/11447 [==============================] - 267s 23ms/step - loss: 1.4107 - acc: 0.3447\n",
      "Epoch 3/6\n",
      "11447/11447 [==============================] - 262s 23ms/step - loss: 1.3269 - acc: 0.4046\n",
      "Epoch 4/6\n",
      "11447/11447 [==============================] - 265s 23ms/step - loss: 1.2408 - acc: 0.4661\n",
      "Epoch 5/6\n",
      "11447/11447 [==============================] - 270s 24ms/step - loss: 1.1586 - acc: 0.5128\n",
      "Epoch 6/6\n",
      "11447/11447 [==============================] - 270s 24ms/step - loss: 1.0826 - acc: 0.5547\n",
      "Accuracy: 31.97%\n"
     ]
    }
   ],
   "source": [
    "model.fit(X_train, y_train, epochs=6, batch_size=16)\n",
    "# Final evaluation of the model\n",
    "scores = model.evaluate(X_test, y_test, verbose=0)\n",
    "print(\"Accuracy: %.2f%%\" % (scores[1]*100))"
   ]
  },
  {
   "cell_type": "code",
   "execution_count": 32,
   "metadata": {},
   "outputs": [
    {
     "name": "stdout",
     "output_type": "stream",
     "text": [
      "_________________________________________________________________\n",
      "Layer (type)                 Output Shape              Param #   \n",
      "=================================================================\n",
      "embedding_10 (Embedding)     (None, 512, 32)           163200    \n",
      "_________________________________________________________________\n",
      "conv1d_5 (Conv1D)            (None, 512, 32)           3104      \n",
      "_________________________________________________________________\n",
      "max_pooling1d_5 (MaxPooling1 (None, 256, 32)           0         \n",
      "_________________________________________________________________\n",
      "lstm_9 (LSTM)                (None, 100)               53200     \n",
      "_________________________________________________________________\n",
      "dense_9 (Dense)              (None, 5)                 505       \n",
      "=================================================================\n",
      "Total params: 220,009\n",
      "Trainable params: 220,009\n",
      "Non-trainable params: 0\n",
      "_________________________________________________________________\n",
      "None\n"
     ]
    }
   ],
   "source": [
    "# create the model\n",
    "embedding_vecor_length = 32\n",
    "model = Sequential()\n",
    "model.add(Embedding(top_words, embedding_vecor_length, input_length=max_review_length))\n",
    "model.add(Conv1D(filters=32, kernel_size=3, padding='same', activation='relu'))\n",
    "model.add(MaxPooling1D(pool_size=2))\n",
    "model.add(LSTM(100))\n",
    "model.add(Dense(5, activation='softmax'))\n",
    "model.compile(loss='categorical_crossentropy', optimizer='adam', metrics=['accuracy'])\n",
    "print(model.summary())"
   ]
  },
  {
   "cell_type": "code",
   "execution_count": 33,
   "metadata": {},
   "outputs": [
    {
     "name": "stdout",
     "output_type": "stream",
     "text": [
      "Epoch 1/6\n",
      "11447/11447 [==============================] - 141s 12ms/step - loss: 1.4342 - acc: 0.3265\n",
      "Epoch 2/6\n",
      "11447/11447 [==============================] - 141s 12ms/step - loss: 1.3568 - acc: 0.3932\n",
      "Epoch 3/6\n",
      "11447/11447 [==============================] - 143s 13ms/step - loss: 1.2748 - acc: 0.4495\n",
      "Epoch 4/6\n",
      "11447/11447 [==============================] - 143s 12ms/step - loss: 1.1784 - acc: 0.4993\n",
      "Epoch 5/6\n",
      "11447/11447 [==============================] - 146s 13ms/step - loss: 1.0840 - acc: 0.5463\n",
      "Epoch 6/6\n",
      "11447/11447 [==============================] - 145s 13ms/step - loss: 0.9855 - acc: 0.5948\n",
      "Accuracy: 36.41%\n"
     ]
    }
   ],
   "source": [
    "model.fit(X_train, y_train, epochs=6, batch_size=16)\n",
    "# Final evaluation of the model\n",
    "scores = model.evaluate(X_test, y_test, verbose=0)\n",
    "print(\"Accuracy: %.2f%%\" % (scores[1]*100))"
   ]
  },
  {
   "cell_type": "code",
   "execution_count": null,
   "metadata": {},
   "outputs": [],
   "source": []
  }
 ],
 "metadata": {
  "kernelspec": {
   "display_name": "Python 3",
   "language": "python",
   "name": "python3"
  },
  "language_info": {
   "codemirror_mode": {
    "name": "ipython",
    "version": 3
   },
   "file_extension": ".py",
   "mimetype": "text/x-python",
   "name": "python",
   "nbconvert_exporter": "python",
   "pygments_lexer": "ipython3",
   "version": "3.6.8"
  }
 },
 "nbformat": 4,
 "nbformat_minor": 2
}
