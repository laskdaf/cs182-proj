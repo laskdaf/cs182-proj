{
 "cells": [
  {
   "cell_type": "code",
   "execution_count": 16,
   "metadata": {},
   "outputs": [],
   "source": [
    "# https://machinelearningmastery.com/sequence-classification-lstm-recurrent-neural-networks-python-keras/\n",
    "import json\n",
    "import numpy as np\n",
    "from keras.models import Sequential\n",
    "from keras.layers import Dense\n",
    "from keras.layers import LSTM\n",
    "from keras.layers.convolutional import Conv1D\n",
    "from keras.layers.convolutional import MaxPooling1D\n",
    "from keras.layers.embeddings import Embedding\n",
    "from keras.preprocessing import sequence\n",
    "from keras.utils import to_categorical\n",
    "from sklearn.model_selection import train_test_split\n",
    "from matplotlib import pyplot"
   ]
  },
  {
   "cell_type": "code",
   "execution_count": 4,
   "metadata": {},
   "outputs": [
    {
     "name": "stdout",
     "output_type": "stream",
     "text": [
      "[9, 5, 11, 6, 13, 15, 14, 12, 1, 17, 10, 16, 4, 505, 502, 504, 511, 503, 510, 507, 509, 508, 506, 500, 501]\n",
      "[0. 0. 1. 0. 0.]\n"
     ]
    }
   ],
   "source": [
    "# load dataset\n",
    "filename = 'text_and_label_all/json_vectorized_test_2.json'\n",
    "\n",
    "X = []\n",
    "y = []\n",
    "with open(filename) as json_file:\n",
    "    data = json.load(json_file)\n",
    "    \n",
    "    for key, value in data.items():\n",
    "        X.append(value[\"vectorized\"])\n",
    "        y.append(value[\"label\"])\n",
    "\n",
    "X = np.array(X)\n",
    "y = np.array(y)\n",
    "\n",
    "# X = X[:,np.newaxis]\n",
    "# y = y[:,np.newaxis]\n",
    "        \n",
    "y = to_categorical(y, num_classes=5)\n",
    "# y = np.expand_dims(y, axis=2)\n",
    "        \n",
    "print(X[0])\n",
    "print(y[0])"
   ]
  },
  {
   "cell_type": "code",
   "execution_count": 10,
   "metadata": {},
   "outputs": [
    {
     "name": "stdout",
     "output_type": "stream",
     "text": [
      "(11447,) (11447, 5)\n",
      "(2862,) (2862, 5)\n"
     ]
    }
   ],
   "source": [
    "top_words = 558\n",
    "X_train, X_test, y_train, y_test = train_test_split(X, y, test_size=0.20, random_state=42)\n",
    "\n",
    "print(X_train.shape, y_train.shape)\n",
    "print(X_test.shape, y_test.shape)"
   ]
  },
  {
   "cell_type": "code",
   "execution_count": 11,
   "metadata": {},
   "outputs": [],
   "source": [
    "# truncate and pad input sequences\n",
    "input_len = 62\n",
    "X_train = sequence.pad_sequences(X_train, maxlen=input_len)\n",
    "X_test = sequence.pad_sequences(X_test, maxlen=input_len)"
   ]
  },
  {
   "cell_type": "code",
   "execution_count": 12,
   "metadata": {},
   "outputs": [
    {
     "name": "stdout",
     "output_type": "stream",
     "text": [
      "_________________________________________________________________\n",
      "Layer (type)                 Output Shape              Param #   \n",
      "=================================================================\n",
      "embedding_2 (Embedding)      (None, 62, 8)             4464      \n",
      "_________________________________________________________________\n",
      "lstm_2 (LSTM)                (None, 16)                1600      \n",
      "_________________________________________________________________\n",
      "dense_2 (Dense)              (None, 5)                 85        \n",
      "=================================================================\n",
      "Total params: 6,149\n",
      "Trainable params: 6,149\n",
      "Non-trainable params: 0\n",
      "_________________________________________________________________\n",
      "None\n"
     ]
    }
   ],
   "source": [
    "# create the model\n",
    "embedding_vecor_length = 8\n",
    "model = Sequential()\n",
    "model.add(Embedding(top_words, embedding_vecor_length, input_length=input_len))\n",
    "model.add(LSTM(16))\n",
    "model.add(Dense(5, activation='softmax'))\n",
    "model.compile(loss='categorical_crossentropy', optimizer='adam', metrics=['accuracy'])\n",
    "print(model.summary())"
   ]
  },
  {
   "cell_type": "code",
   "execution_count": 14,
   "metadata": {},
   "outputs": [
    {
     "name": "stdout",
     "output_type": "stream",
     "text": [
      "Train on 11447 samples, validate on 2862 samples\n",
      "Epoch 1/5\n",
      "11447/11447 [==============================] - 37s 3ms/step - loss: 1.3752 - acc: 0.3806 - val_loss: 1.4021 - val_acc: 0.3585\n",
      "Epoch 2/5\n",
      "11447/11447 [==============================] - 37s 3ms/step - loss: 1.3583 - acc: 0.3938 - val_loss: 1.4032 - val_acc: 0.3669\n",
      "Epoch 3/5\n",
      "11447/11447 [==============================] - 37s 3ms/step - loss: 1.3475 - acc: 0.3986 - val_loss: 1.4060 - val_acc: 0.3662\n",
      "Epoch 4/5\n",
      "11447/11447 [==============================] - 38s 3ms/step - loss: 1.3372 - acc: 0.4074 - val_loss: 1.4086 - val_acc: 0.3623\n",
      "Epoch 5/5\n",
      "11447/11447 [==============================] - 37s 3ms/step - loss: 1.3297 - acc: 0.4174 - val_loss: 1.4190 - val_acc: 0.3637\n",
      "Accuracy: 36.37%\n"
     ]
    }
   ],
   "source": [
    "history = model.fit(X_train, y_train, epochs=5, batch_size=16, validation_data=(X_test, y_test))\n",
    "# Final evaluation of the model\n",
    "scores = model.evaluate(X_test, y_test, verbose=0)\n",
    "print(\"Accuracy: %.2f%%\" % (scores[1]*100))"
   ]
  },
  {
   "cell_type": "code",
   "execution_count": 21,
   "metadata": {},
   "outputs": [
    {
     "data": {
      "image/png": "[encoded data removed]",
      "text/plain": [
       "<Figure size 432x288 with 1 Axes>"
      ]
     },
     "metadata": {
      "needs_background": "light"
     },
     "output_type": "display_data"
    }
   ],
   "source": [
    "pyplot.plot(history.history['loss'])\n",
    "pyplot.plot(history.history['val_loss'])\n",
    "pyplot.title('model train vs validation loss')\n",
    "pyplot.ylabel('loss')\n",
    "pyplot.xlabel('epoch')\n",
    "pyplot.legend(['train', 'validation'], loc='upper right')\n",
    "pyplot.show()"
   ]
  },
  {
   "cell_type": "code",
   "execution_count": 18,
   "metadata": {},
   "outputs": [
    {
     "name": "stdout",
     "output_type": "stream",
     "text": [
      "_________________________________________________________________\n",
      "Layer (type)                 Output Shape              Param #   \n",
      "=================================================================\n",
      "embedding_3 (Embedding)      (None, 62, 8)             4464      \n",
      "_________________________________________________________________\n",
      "conv1d_1 (Conv1D)            (None, 62, 2)             50        \n",
      "_________________________________________________________________\n",
      "max_pooling1d_1 (MaxPooling1 (None, 31, 2)             0         \n",
      "_________________________________________________________________\n",
      "lstm_3 (LSTM)                (None, 16)                1216      \n",
      "_________________________________________________________________\n",
      "dense_3 (Dense)              (None, 5)                 85        \n",
      "=================================================================\n",
      "Total params: 5,815\n",
      "Trainable params: 5,815\n",
      "Non-trainable params: 0\n",
      "_________________________________________________________________\n",
      "None\n"
     ]
    }
   ],
   "source": [
    "# create the model\n",
    "embedding_vecor_length = 8\n",
    "model = Sequential()\n",
    "model.add(Embedding(top_words, embedding_vecor_length, input_length=input_len))\n",
    "model.add(Conv1D(filters=2, kernel_size=3, padding='same', activation='relu'))\n",
    "model.add(MaxPooling1D(pool_size=2))\n",
    "model.add(LSTM(16))\n",
    "model.add(Dense(5, activation='softmax'))\n",
    "model.compile(loss='categorical_crossentropy', optimizer='adam', metrics=['accuracy'])\n",
    "print(model.summary())"
   ]
  },
  {
   "cell_type": "code",
   "execution_count": 22,
   "metadata": {},
   "outputs": [
    {
     "name": "stdout",
     "output_type": "stream",
     "text": [
      "Train on 11447 samples, validate on 2862 samples\n",
      "Epoch 1/5\n",
      "11447/11447 [==============================] - 20s 2ms/step - loss: 1.4385 - acc: 0.3394 - val_loss: 1.4265 - val_acc: 0.3438\n",
      "Epoch 2/5\n",
      "11447/11447 [==============================] - 20s 2ms/step - loss: 1.4084 - acc: 0.3625 - val_loss: 1.4223 - val_acc: 0.3498\n",
      "Epoch 3/5\n",
      "11447/11447 [==============================] - 20s 2ms/step - loss: 1.3898 - acc: 0.3741 - val_loss: 1.4340 - val_acc: 0.3431\n",
      "Epoch 4/5\n",
      "11447/11447 [==============================] - 19s 2ms/step - loss: 1.3771 - acc: 0.3824 - val_loss: 1.4228 - val_acc: 0.3508\n",
      "Epoch 5/5\n",
      "11447/11447 [==============================] - 20s 2ms/step - loss: 1.3634 - acc: 0.3919 - val_loss: 1.4242 - val_acc: 0.3539\n",
      "Accuracy: 35.39%\n"
     ]
    }
   ],
   "source": [
    "history2 = model.fit(X_train, y_train, epochs=5, batch_size=16, validation_data=(X_test, y_test))\n",
    "# Final evaluation of the model\n",
    "scores = model.evaluate(X_test, y_test, verbose=0)\n",
    "print(\"Accuracy: %.2f%%\" % (scores[1]*100))"
   ]
  },
  {
   "cell_type": "code",
   "execution_count": 23,
   "metadata": {},
   "outputs": [
    {
     "data": {
      "image/png": "[encoded data removed]",
      "text/plain": [
       "<Figure size 432x288 with 1 Axes>"
      ]
     },
     "metadata": {
      "needs_background": "light"
     },
     "output_type": "display_data"
    }
   ],
   "source": [
    "pyplot.plot(history2.history['loss'])\n",
    "pyplot.plot(history2.history['val_loss'])\n",
    "pyplot.title('model train vs validation loss')\n",
    "pyplot.ylabel('loss')\n",
    "pyplot.xlabel('epoch')\n",
    "pyplot.legend(['train', 'validation'], loc='upper right')\n",
    "pyplot.show()"
   ]
  },
  {
   "cell_type": "code",
   "execution_count": 13,
   "metadata": {},
   "outputs": [
    {
     "name": "stdout",
     "output_type": "stream",
     "text": [
      "Saved model to disk\n"
     ]
    }
   ],
   "source": [
    "# serialize model to JSON\n",
    "model_json = model.to_json()\n",
    "with open(\"models/conv_lstm_model.json\", \"w\") as json_file:\n",
    "    json_file.write(model_json)\n",
    "# serialize weights to HDF5\n",
    "model.save_weights(\"models/conv_lstm_model.h5\")\n",
    "print(\"Saved model to disk\")"
   ]
  },
  {
   "cell_type": "code",
   "execution_count": null,
   "metadata": {},
   "outputs": [],
   "source": []
  }
 ],
 "metadata": {
  "kernelspec": {
   "display_name": "Python 3",
   "language": "python",
   "name": "python3"
  },
  "language_info": {
   "codemirror_mode": {
    "name": "ipython",
    "version": 3
   },
   "file_extension": ".py",
   "mimetype": "text/x-python",
   "name": "python",
   "nbconvert_exporter": "python",
   "pygments_lexer": "ipython3",
   "version": "3.6.8"
  }
 },
 "nbformat": 4,
 "nbformat_minor": 2
}
